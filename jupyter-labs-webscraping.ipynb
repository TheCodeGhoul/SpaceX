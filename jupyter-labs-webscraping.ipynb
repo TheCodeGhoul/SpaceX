{
 "cells": [
  {
   "cell_type": "markdown",
   "metadata": {},
   "source": [
    "<p style=\"text-align:center\">\n",
    "    <a href=\"https://skills.network\" target=\"_blank\">\n",
    "    <img src=\"https://cf-courses-data.s3.us.cloud-object-storage.appdomain.cloud/assets/logos/SN_web_lightmode.png\" width=\"200\" alt=\"Skills Network Logo\">\n",
    "    </a>\n",
    "</p>\n"
   ]
  },
  {
   "cell_type": "markdown",
   "metadata": {},
   "source": [
    "# **Space X  Falcon 9 First Stage Landing Prediction**\n"
   ]
  },
  {
   "cell_type": "markdown",
   "metadata": {},
   "source": [
    "## Web scraping Falcon 9 and Falcon Heavy Launches Records from Wikipedia\n"
   ]
  },
  {
   "cell_type": "markdown",
   "metadata": {},
   "source": [
    "Estimated time needed: **40** minutes\n"
   ]
  },
  {
   "cell_type": "markdown",
   "metadata": {},
   "source": [
    "In this lab, you will be performing web scraping to collect Falcon 9 historical launch records from a Wikipedia page titled `List of Falcon 9 and Falcon Heavy launches`\n",
    "\n",
    "https://en.wikipedia.org/wiki/List_of_Falcon_9_and_Falcon_Heavy_launches\n"
   ]
  },
  {
   "cell_type": "markdown",
   "metadata": {},
   "source": [
    "![](https://cf-courses-data.s3.us.cloud-object-storage.appdomain.cloud/IBM-DS0321EN-SkillsNetwork/labs/module_1_L2/images/Falcon9_rocket_family.svg)\n"
   ]
  },
  {
   "cell_type": "markdown",
   "metadata": {},
   "source": [
    "Falcon 9 first stage will land successfully\n"
   ]
  },
  {
   "cell_type": "markdown",
   "metadata": {},
   "source": [
    "![](https://cf-courses-data.s3.us.cloud-object-storage.appdomain.cloud/IBMDeveloperSkillsNetwork-DS0701EN-SkillsNetwork/api/Images/landing_1.gif)\n"
   ]
  },
  {
   "cell_type": "markdown",
   "metadata": {},
   "source": [
    "Several examples of an unsuccessful landing are shown here:\n"
   ]
  },
  {
   "cell_type": "markdown",
   "metadata": {},
   "source": [
    "![](https://cf-courses-data.s3.us.cloud-object-storage.appdomain.cloud/IBMDeveloperSkillsNetwork-DS0701EN-SkillsNetwork/api/Images/crash.gif)\n"
   ]
  },
  {
   "cell_type": "markdown",
   "metadata": {},
   "source": [
    "More specifically, the launch records are stored in a HTML table shown below:\n"
   ]
  },
  {
   "cell_type": "markdown",
   "metadata": {},
   "source": [
    "![](https://cf-courses-data.s3.us.cloud-object-storage.appdomain.cloud/IBM-DS0321EN-SkillsNetwork/labs/module_1_L2/images/falcon9-launches-wiki.png)\n"
   ]
  },
  {
   "cell_type": "markdown",
   "metadata": {},
   "source": [
    "  ## Objectives\n",
    "Web scrap Falcon 9 launch records with `BeautifulSoup`: \n",
    "- Extract a Falcon 9 launch records HTML table from Wikipedia\n",
    "- Parse the table and convert it into a Pandas data frame\n"
   ]
  },
  {
   "cell_type": "markdown",
   "metadata": {},
   "source": [
    "First let's import required packages for this lab\n"
   ]
  },
  {
   "cell_type": "code",
   "execution_count": 5,
   "metadata": {
    "tags": []
   },
   "outputs": [
    {
     "name": "stdout",
     "output_type": "stream",
     "text": [
      "Requirement already satisfied: beautifulsoup4 in /home/jupyterlab/conda/envs/python/lib/python3.7/site-packages (4.11.1)\n",
      "Requirement already satisfied: soupsieve>1.2 in /home/jupyterlab/conda/envs/python/lib/python3.7/site-packages (from beautifulsoup4) (2.3.2.post1)\n",
      "Requirement already satisfied: requests in /home/jupyterlab/conda/envs/python/lib/python3.7/site-packages (2.29.0)\n",
      "Requirement already satisfied: charset-normalizer<4,>=2 in /home/jupyterlab/conda/envs/python/lib/python3.7/site-packages (from requests) (3.1.0)\n",
      "Requirement already satisfied: idna<4,>=2.5 in /home/jupyterlab/conda/envs/python/lib/python3.7/site-packages (from requests) (3.4)\n",
      "Requirement already satisfied: urllib3<1.27,>=1.21.1 in /home/jupyterlab/conda/envs/python/lib/python3.7/site-packages (from requests) (1.26.15)\n",
      "Requirement already satisfied: certifi>=2017.4.17 in /home/jupyterlab/conda/envs/python/lib/python3.7/site-packages (from requests) (2023.5.7)\n"
     ]
    }
   ],
   "source": [
    "!pip3 install beautifulsoup4\n",
    "!pip3 install requests"
   ]
  },
  {
   "cell_type": "code",
   "execution_count": 1,
   "metadata": {
    "tags": []
   },
   "outputs": [],
   "source": [
    "import sys\n",
    "\n",
    "import requests\n",
    "from bs4 import BeautifulSoup\n",
    "import re\n",
    "import unicodedata\n",
    "import pandas as pd"
   ]
  },
  {
   "cell_type": "markdown",
   "metadata": {},
   "source": [
    "and we will provide some helper functions for you to process web scraped HTML table\n"
   ]
  },
  {
   "cell_type": "code",
   "execution_count": 2,
   "metadata": {
    "tags": []
   },
   "outputs": [],
   "source": [
    "def date_time(table_cells):\n",
    "    \"\"\"\n",
    "    This function returns the data and time from the HTML  table cell\n",
    "    Input: the  element of a table data cell extracts extra row\n",
    "    \"\"\"\n",
    "    return [data_time.strip() for data_time in list(table_cells.strings)][0:2]\n",
    "\n",
    "def booster_version(table_cells):\n",
    "    \"\"\"\n",
    "    This function returns the booster version from the HTML  table cell \n",
    "    Input: the  element of a table data cell extracts extra row\n",
    "    \"\"\"\n",
    "    out=''.join([booster_version for i,booster_version in enumerate( table_cells.strings) if i%2==0][0:-1])\n",
    "    return out\n",
    "\n",
    "def landing_status(table_cells):\n",
    "    \"\"\"\n",
    "    This function returns the landing status from the HTML table cell \n",
    "    Input: the  element of a table data cell extracts extra row\n",
    "    \"\"\"\n",
    "    out=[i for i in table_cells.strings][0]\n",
    "    return out\n",
    "\n",
    "\n",
    "def get_mass(table_cells):\n",
    "    mass=unicodedata.normalize(\"NFKD\", table_cells.text).strip()\n",
    "    if mass:\n",
    "        mass.find(\"kg\")\n",
    "        new_mass=mass[0:mass.find(\"kg\")+2]\n",
    "    else:\n",
    "        new_mass=0\n",
    "    return new_mass\n",
    "\n",
    "\n",
    "def extract_column_from_header(row):\n",
    "    \"\"\"\n",
    "    This function returns the landing status from the HTML table cell \n",
    "    Input: the  element of a table data cell extracts extra row\n",
    "    \"\"\"\n",
    "    if (row.br):\n",
    "        row.br.extract()\n",
    "    if row.a:\n",
    "        row.a.extract()\n",
    "    if row.sup:\n",
    "        row.sup.extract()\n",
    "        \n",
    "    colunm_name = ' '.join(row.contents)\n",
    "    \n",
    "    # Filter the digit and empty names\n",
    "    if not(colunm_name.strip().isdigit()):\n",
    "        colunm_name = colunm_name.strip()\n",
    "        return colunm_name    \n"
   ]
  },
  {
   "cell_type": "markdown",
   "metadata": {},
   "source": [
    "To keep the lab tasks consistent, you will be asked to scrape the data from a snapshot of the  `List of Falcon 9 and Falcon Heavy launches` Wikipage updated on\n",
    "`9th June 2021`\n"
   ]
  },
  {
   "cell_type": "code",
   "execution_count": 3,
   "metadata": {
    "tags": []
   },
   "outputs": [],
   "source": [
    "static_url = \"https://en.wikipedia.org/w/index.php?title=List_of_Falcon_9_and_Falcon_Heavy_launches&oldid=1027686922\""
   ]
  },
  {
   "cell_type": "markdown",
   "metadata": {},
   "source": [
    "Next, request the HTML page from the above URL and get a `response` object\n"
   ]
  },
  {
   "cell_type": "markdown",
   "metadata": {},
   "source": [
    "### TASK 1: Request the Falcon9 Launch Wiki page from its URL\n"
   ]
  },
  {
   "cell_type": "markdown",
   "metadata": {},
   "source": [
    "First, let's perform an HTTP GET method to request the Falcon9 Launch HTML page, as an HTTP response.\n"
   ]
  },
  {
   "cell_type": "code",
   "execution_count": 4,
   "metadata": {
    "tags": []
   },
   "outputs": [
    {
     "name": "stdout",
     "output_type": "stream",
     "text": [
      "List of Falcon 9 and Falcon Heavy launches - Wikipedia\n"
     ]
    }
   ],
   "source": [
    "import re\n",
    "import pandas as pd\n",
    "import requests\n",
    "from bs4 import BeautifulSoup\n",
    "\n",
    "# If your notebook already defined static_url, we’ll use it; otherwise we fall back to the live page.\n",
    "url = (globals().get(\"static_url\")\n",
    "       or \"https://en.wikipedia.org/wiki/List_of_Falcon_9_and_Falcon_Heavy_launches\")\n",
    "url = url.rstrip(\"?\").strip()\n",
    "\n",
    "headers = {\n",
    "    \"User-Agent\": \"Mozilla/5.0 (Windows NT 10.0; Win64; x64) AppleWebKit/537.36 (KHTML, like Gecko) Chrome/124.0 Safari/537.36\",\n",
    "    \"Accept-Language\": \"en-US,en;q=0.9\",\n",
    "}\n",
    "\n",
    "resp = requests.get(url, headers=headers, timeout=30)\n",
    "resp.raise_for_status()\n",
    "soup = BeautifulSoup(resp.text, \"html.parser\")\n",
    "print(soup.title.get_text(strip=True) if soup.title else \"No <title>\")\n"
   ]
  },
  {
   "cell_type": "markdown",
   "metadata": {},
   "source": [
    "Create a `BeautifulSoup` object from the HTML `response`\n"
   ]
  },
  {
   "cell_type": "code",
   "execution_count": 5,
   "metadata": {
    "tags": []
   },
   "outputs": [],
   "source": [
    "# Use BeautifulSoup() to create a BeautifulSoup object from a response text content"
   ]
  },
  {
   "cell_type": "markdown",
   "metadata": {},
   "source": [
    "Print the page title to verify if the `BeautifulSoup` object was created properly \n"
   ]
  },
  {
   "cell_type": "code",
   "execution_count": 6,
   "metadata": {
    "tags": []
   },
   "outputs": [
    {
     "ename": "NameError",
     "evalue": "name 'spacex_df' is not defined",
     "output_type": "error",
     "traceback": [
      "\u001b[0;31m---------------------------------------------------------------------------\u001b[0m",
      "\u001b[0;31mNameError\u001b[0m                                 Traceback (most recent call last)",
      "\u001b[0;32m/tmp/ipykernel_68/1130853003.py\u001b[0m in \u001b[0;36m<module>\u001b[0;34m\u001b[0m\n\u001b[0;32m----> 1\u001b[0;31m \u001b[0;34m(\u001b[0m\u001b[0mspacex_df\u001b[0m\u001b[0;34m[\u001b[0m\u001b[0;34m'rocket.rocket_name'\u001b[0m\u001b[0;34m]\u001b[0m \u001b[0;34m==\u001b[0m \u001b[0;34m'Falcon 9'\u001b[0m\u001b[0;34m)\u001b[0m\u001b[0;34m.\u001b[0m\u001b[0msum\u001b[0m\u001b[0;34m(\u001b[0m\u001b[0;34m)\u001b[0m\u001b[0;34m\u001b[0m\u001b[0;34m\u001b[0m\u001b[0m\n\u001b[0m",
      "\u001b[0;31mNameError\u001b[0m: name 'spacex_df' is not defined"
     ]
    }
   ],
   "source": [
    "(spacex_df['rocket.rocket_name'] == 'Falcon 9').sum()"
   ]
  },
  {
   "cell_type": "markdown",
   "metadata": {},
   "source": [
    "### TASK 2: Extract all column/variable names from the HTML table header\n"
   ]
  },
  {
   "cell_type": "markdown",
   "metadata": {},
   "source": [
    "Next, we want to collect all relevant column names from the HTML table header\n"
   ]
  },
  {
   "cell_type": "markdown",
   "metadata": {},
   "source": [
    "Let's try to find all tables on the wiki page first. If you need to refresh your memory about `BeautifulSoup`, please check the external reference link towards the end of this lab\n"
   ]
  },
  {
   "cell_type": "code",
   "execution_count": null,
   "metadata": {
    "tags": []
   },
   "outputs": [],
   "source": [
    "def _txt(el):\n",
    "    return el.get_text(\" \", strip=True) if el else None\n",
    "\n",
    "def split_date_time(td):\n",
    "    t = _txt(td) or \"\"\n",
    "    parts = [p.strip() for p in t.split(\",\", 1)]\n",
    "    if len(parts) == 2:\n",
    "        return parts[0], parts[1]\n",
    "    return t, None\n",
    "\n",
    "def booster_version(td):\n",
    "    t = _txt(td) or \"\"\n",
    "    m = re.search(r\"(Block\\s*\\d+|v\\d+(?:\\.\\d+)?|FT)\", t, flags=re.I)\n",
    "    return m.group(0) if m else t\n",
    "\n",
    "def landing_status(td):\n",
    "    # keep first plain string (e.g., \"ASDS landing\", \"Ocean\", \"Success\", \"Failure\")\n",
    "    t = _txt(td) or \"\"\n",
    "    return re.sub(r\"\\[[^\\]]*\\]\", \"\", t).strip()\n",
    "\n",
    "def get_mass_kg(td):\n",
    "    t = re.sub(r\"\\[[^\\]]*\\]\", \"\", _txt(td) or \"\")\n",
    "    m = re.search(r\"([\\d,]+(?:\\.\\d+)?)\\s*kg\", t, flags=re.I)\n",
    "    return float(m.group(1).replace(\",\", \"\")) if m else None\n",
    "\n",
    "def first_text_or_link(td):\n",
    "    if td and td.a and td.a.string:\n",
    "        return td.a.string.strip()\n",
    "    return _txt(td)\n",
    "\n"
   ]
  },
  {
   "cell_type": "markdown",
   "metadata": {},
   "source": [
    "## TASK 3: Create a data frame by parsing the launch HTML tables\n"
   ]
  },
  {
   "cell_type": "markdown",
   "metadata": {},
   "source": [
    "We will create an empty dictionary with keys from the extracted column names in the previous task. Later, this dictionary will be converted into a Pandas dataframe\n"
   ]
  },
  {
   "cell_type": "code",
   "execution_count": 14,
   "metadata": {
    "tags": []
   },
   "outputs": [
    {
     "name": "stdout",
     "output_type": "stream",
     "text": [
      "['Flight No.', 'Date and time ( UTC )', 'Version, Booster', 'Launch site', 'Payload', 'Payload mass', 'Orbit', 'Customer', 'Launch outcome', 'Booster landing', '1', '2', '3', '4', '5', '6', '7']\n"
     ]
    }
   ],
   "source": [
    "tables = soup.find_all(\"table\")\n",
    "# Falcon-9 launch records live in \"wikitable plainrowheaders collapsible\" blocks\n",
    "launch_tables = soup.select(\"table.wikitable.plainrowheaders.collapsible\")\n",
    "if not launch_tables:\n",
    "    # fallback: use the 3rd table on the page like many course snapshots do\n",
    "    launch_tables = [tables[2]]\n",
    "\n",
    "# Use the first launch table to get column headers\n",
    "ths = launch_tables[0].find_all(\"th\")\n",
    "column_names = []\n",
    "for th in ths:\n",
    "    name = re.sub(r\"\\s+\", \" \", th.get_text(\" \", strip=True))\n",
    "    name = re.sub(r\"\\[[^\\]]*\\]\", \"\", name).strip()\n",
    "    if name:\n",
    "        column_names.append(name)\n",
    "\n",
    "print(column_names)\n"
   ]
  },
  {
   "cell_type": "markdown",
   "metadata": {},
   "source": [
    "Next, we just need to fill up the `launch_dict` with launch records extracted from table rows.\n"
   ]
  },
  {
   "cell_type": "markdown",
   "metadata": {},
   "source": [
    "Usually, HTML tables in Wiki pages are likely to contain unexpected annotations and other types of noises, such as reference links `B0004.1[8]`, missing values `N/A [e]`, inconsistent formatting, etc.\n"
   ]
  },
  {
   "cell_type": "markdown",
   "metadata": {},
   "source": [
    "To simplify the parsing process, we have provided an incomplete code snippet below to help you to fill up the `launch_dict`. Please complete the following code snippet with TODOs or you can choose to write your own logic to parse all launch tables:\n"
   ]
  },
  {
   "cell_type": "code",
   "execution_count": 15,
   "metadata": {
    "tags": []
   },
   "outputs": [
    {
     "data": {
      "text/plain": [
       "121"
      ]
     },
     "execution_count": 15,
     "metadata": {},
     "output_type": "execute_result"
    }
   ],
   "source": [
    "launch_dict = {\n",
    "    \"Flight No.\": [],\n",
    "    \"Date\": [],\n",
    "    \"Time\": [],\n",
    "    \"Version Booster\": [],\n",
    "    \"Launch site\": [],\n",
    "    \"Payload\": [],\n",
    "    \"Payload mass\": [],\n",
    "    \"Orbit\": [],\n",
    "    \"Customer\": [],\n",
    "    \"Launch outcome\": [],\n",
    "    \"Booster landing\": [],\n",
    "}\n",
    "\n",
    "rows_parsed = 0\n",
    "\n",
    "for tbl in launch_tables:\n",
    "    for tr in tbl.find_all(\"tr\"):\n",
    "        th = tr.find(\"th\")\n",
    "        if not th:\n",
    "            continue\n",
    "        fn = (th.string or \"\").strip()\n",
    "        if not fn.isdigit():\n",
    "            continue\n",
    "\n",
    "        tds = tr.find_all(\"td\")\n",
    "        if len(tds) < 9:\n",
    "            continue\n",
    "\n",
    "        d, tm = split_date_time(tds[0])\n",
    "        bv = booster_version(tds[1])\n",
    "        site = first_text_or_link(tds[2])\n",
    "        payload = first_text_or_link(tds[3])\n",
    "        mass = get_mass_kg(tds[4])\n",
    "        orbit = first_text_or_link(tds[5])\n",
    "        customer = first_text_or_link(tds[6])\n",
    "        launch_outcome = (list(tds[7].stripped_strings) or [\"\"])[0]\n",
    "        booster_land = landing_status(tds[8])\n",
    "\n",
    "        launch_dict[\"Flight No.\"].append(fn)\n",
    "        launch_dict[\"Date\"].append(d)\n",
    "        launch_dict[\"Time\"].append(tm)\n",
    "        launch_dict[\"Version Booster\"].append(bv)\n",
    "        launch_dict[\"Launch site\"].append(site)\n",
    "        launch_dict[\"Payload\"].append(payload)\n",
    "        launch_dict[\"Payload mass\"].append(mass)\n",
    "        launch_dict[\"Orbit\"].append(orbit)\n",
    "        launch_dict[\"Customer\"].append(customer)\n",
    "        launch_dict[\"Launch outcome\"].append(launch_outcome)\n",
    "        launch_dict[\"Booster landing\"].append(booster_land)\n",
    "\n",
    "        rows_parsed += 1\n",
    "\n",
    "rows_parsed\n"
   ]
  },
  {
   "cell_type": "markdown",
   "metadata": {},
   "source": [
    "After you have fill in the parsed launch record values into `launch_dict`, you can create a dataframe from it.\n"
   ]
  },
  {
   "cell_type": "code",
   "execution_count": 16,
   "metadata": {
    "tags": []
   },
   "outputs": [
    {
     "data": {
      "text/html": [
       "<div>\n",
       "<style scoped>\n",
       "    .dataframe tbody tr th:only-of-type {\n",
       "        vertical-align: middle;\n",
       "    }\n",
       "\n",
       "    .dataframe tbody tr th {\n",
       "        vertical-align: top;\n",
       "    }\n",
       "\n",
       "    .dataframe thead th {\n",
       "        text-align: right;\n",
       "    }\n",
       "</style>\n",
       "<table border=\"1\" class=\"dataframe\">\n",
       "  <thead>\n",
       "    <tr style=\"text-align: right;\">\n",
       "      <th></th>\n",
       "      <th>Flight No.</th>\n",
       "      <th>Date</th>\n",
       "      <th>Time</th>\n",
       "      <th>Version Booster</th>\n",
       "      <th>Launch site</th>\n",
       "      <th>Payload</th>\n",
       "      <th>Payload mass</th>\n",
       "      <th>Orbit</th>\n",
       "      <th>Customer</th>\n",
       "      <th>Launch outcome</th>\n",
       "      <th>Booster landing</th>\n",
       "      <th>Launch_UTC</th>\n",
       "    </tr>\n",
       "  </thead>\n",
       "  <tbody>\n",
       "    <tr>\n",
       "      <th>0</th>\n",
       "      <td>1</td>\n",
       "      <td>4 June 2010</td>\n",
       "      <td>18:45</td>\n",
       "      <td>v1.0</td>\n",
       "      <td>CCAFS</td>\n",
       "      <td>Dragon Spacecraft Qualification Unit</td>\n",
       "      <td>NaN</td>\n",
       "      <td>LEO</td>\n",
       "      <td>SpaceX</td>\n",
       "      <td>Success</td>\n",
       "      <td>Failure   (parachute)</td>\n",
       "      <td>2010-06-04 18:45:00+00:00</td>\n",
       "    </tr>\n",
       "    <tr>\n",
       "      <th>1</th>\n",
       "      <td>2</td>\n",
       "      <td>8 December 2010</td>\n",
       "      <td>15:43 [ 13 ]</td>\n",
       "      <td>v1.0</td>\n",
       "      <td>CCAFS</td>\n",
       "      <td>Dragon</td>\n",
       "      <td>NaN</td>\n",
       "      <td>LEO</td>\n",
       "      <td>NASA</td>\n",
       "      <td>Success</td>\n",
       "      <td>Failure   (parachute)</td>\n",
       "      <td>NaT</td>\n",
       "    </tr>\n",
       "    <tr>\n",
       "      <th>2</th>\n",
       "      <td>3</td>\n",
       "      <td>22 May 2012</td>\n",
       "      <td>07:44 [ 17 ]</td>\n",
       "      <td>v1.0</td>\n",
       "      <td>CCAFS</td>\n",
       "      <td>Dragon</td>\n",
       "      <td>525.0</td>\n",
       "      <td>LEO</td>\n",
       "      <td>NASA</td>\n",
       "      <td>Success</td>\n",
       "      <td>No attempt</td>\n",
       "      <td>NaT</td>\n",
       "    </tr>\n",
       "    <tr>\n",
       "      <th>3</th>\n",
       "      <td>4</td>\n",
       "      <td>8 October 2012</td>\n",
       "      <td>00:35 [ 21 ]</td>\n",
       "      <td>v1.0</td>\n",
       "      <td>CCAFS</td>\n",
       "      <td>SpaceX CRS-1</td>\n",
       "      <td>4700.0</td>\n",
       "      <td>LEO</td>\n",
       "      <td>NASA</td>\n",
       "      <td>Success</td>\n",
       "      <td>No attempt</td>\n",
       "      <td>NaT</td>\n",
       "    </tr>\n",
       "    <tr>\n",
       "      <th>4</th>\n",
       "      <td>5</td>\n",
       "      <td>1 March 2013</td>\n",
       "      <td>15:10</td>\n",
       "      <td>v1.0</td>\n",
       "      <td>CCAFS</td>\n",
       "      <td>SpaceX CRS-2</td>\n",
       "      <td>4877.0</td>\n",
       "      <td>LEO</td>\n",
       "      <td>NASA</td>\n",
       "      <td>Success</td>\n",
       "      <td>No attempt</td>\n",
       "      <td>2013-03-01 15:10:00+00:00</td>\n",
       "    </tr>\n",
       "    <tr>\n",
       "      <th>5</th>\n",
       "      <td>6</td>\n",
       "      <td>29 September 2013</td>\n",
       "      <td>16:00 [ 30 ]</td>\n",
       "      <td>v1.1</td>\n",
       "      <td>VAFB</td>\n",
       "      <td>CASSIOPE</td>\n",
       "      <td>500.0</td>\n",
       "      <td>Polar orbit</td>\n",
       "      <td>MDA</td>\n",
       "      <td>Success</td>\n",
       "      <td>Uncontrolled (ocean)</td>\n",
       "      <td>NaT</td>\n",
       "    </tr>\n",
       "    <tr>\n",
       "      <th>6</th>\n",
       "      <td>7</td>\n",
       "      <td>3 December 2013</td>\n",
       "      <td>22:41 [ 34 ]</td>\n",
       "      <td>v1.1</td>\n",
       "      <td>CCAFS</td>\n",
       "      <td>SES-8</td>\n",
       "      <td>3170.0</td>\n",
       "      <td>GTO</td>\n",
       "      <td>SES</td>\n",
       "      <td>Success</td>\n",
       "      <td>No attempt</td>\n",
       "      <td>NaT</td>\n",
       "    </tr>\n",
       "    <tr>\n",
       "      <th>7</th>\n",
       "      <td>8</td>\n",
       "      <td>6 January 2014</td>\n",
       "      <td>22:06 [ 41 ]</td>\n",
       "      <td>v1.1</td>\n",
       "      <td>CCAFS</td>\n",
       "      <td>Thaicom 6</td>\n",
       "      <td>3325.0</td>\n",
       "      <td>GTO</td>\n",
       "      <td>Thaicom</td>\n",
       "      <td>Success</td>\n",
       "      <td>No attempt</td>\n",
       "      <td>NaT</td>\n",
       "    </tr>\n",
       "    <tr>\n",
       "      <th>8</th>\n",
       "      <td>9</td>\n",
       "      <td>18 April 2014</td>\n",
       "      <td>19:25 [ 21 ]</td>\n",
       "      <td>v1.1</td>\n",
       "      <td>Cape Canaveral</td>\n",
       "      <td>SpaceX CRS-3</td>\n",
       "      <td>2296.0</td>\n",
       "      <td>LEO</td>\n",
       "      <td>NASA</td>\n",
       "      <td>Success</td>\n",
       "      <td>Controlled (ocean)</td>\n",
       "      <td>NaT</td>\n",
       "    </tr>\n",
       "    <tr>\n",
       "      <th>9</th>\n",
       "      <td>10</td>\n",
       "      <td>14 July 2014</td>\n",
       "      <td>15:15</td>\n",
       "      <td>v1.1</td>\n",
       "      <td>Cape Canaveral</td>\n",
       "      <td>Orbcomm-OG2</td>\n",
       "      <td>1316.0</td>\n",
       "      <td>LEO</td>\n",
       "      <td>Orbcomm</td>\n",
       "      <td>Success</td>\n",
       "      <td>Controlled (ocean)</td>\n",
       "      <td>2014-07-14 15:15:00+00:00</td>\n",
       "    </tr>\n",
       "  </tbody>\n",
       "</table>\n",
       "</div>"
      ],
      "text/plain": [
       "   Flight No.               Date          Time Version Booster  \\\n",
       "0           1        4 June 2010         18:45            v1.0   \n",
       "1           2    8 December 2010  15:43 [ 13 ]            v1.0   \n",
       "2           3        22 May 2012  07:44 [ 17 ]            v1.0   \n",
       "3           4     8 October 2012  00:35 [ 21 ]            v1.0   \n",
       "4           5       1 March 2013         15:10            v1.0   \n",
       "5           6  29 September 2013  16:00 [ 30 ]            v1.1   \n",
       "6           7    3 December 2013  22:41 [ 34 ]            v1.1   \n",
       "7           8     6 January 2014  22:06 [ 41 ]            v1.1   \n",
       "8           9      18 April 2014  19:25 [ 21 ]            v1.1   \n",
       "9          10       14 July 2014         15:15            v1.1   \n",
       "\n",
       "      Launch site                               Payload  Payload mass  \\\n",
       "0           CCAFS  Dragon Spacecraft Qualification Unit           NaN   \n",
       "1           CCAFS                                Dragon           NaN   \n",
       "2           CCAFS                                Dragon         525.0   \n",
       "3           CCAFS                          SpaceX CRS-1        4700.0   \n",
       "4           CCAFS                          SpaceX CRS-2        4877.0   \n",
       "5            VAFB                              CASSIOPE         500.0   \n",
       "6           CCAFS                                 SES-8        3170.0   \n",
       "7           CCAFS                             Thaicom 6        3325.0   \n",
       "8  Cape Canaveral                          SpaceX CRS-3        2296.0   \n",
       "9  Cape Canaveral                           Orbcomm-OG2        1316.0   \n",
       "\n",
       "         Orbit Customer Launch outcome        Booster landing  \\\n",
       "0          LEO   SpaceX        Success  Failure   (parachute)   \n",
       "1          LEO     NASA        Success  Failure   (parachute)   \n",
       "2          LEO     NASA        Success             No attempt   \n",
       "3          LEO     NASA        Success             No attempt   \n",
       "4          LEO     NASA        Success             No attempt   \n",
       "5  Polar orbit      MDA        Success   Uncontrolled (ocean)   \n",
       "6          GTO      SES        Success             No attempt   \n",
       "7          GTO  Thaicom        Success             No attempt   \n",
       "8          LEO     NASA        Success     Controlled (ocean)   \n",
       "9          LEO  Orbcomm        Success     Controlled (ocean)   \n",
       "\n",
       "                 Launch_UTC  \n",
       "0 2010-06-04 18:45:00+00:00  \n",
       "1                       NaT  \n",
       "2                       NaT  \n",
       "3                       NaT  \n",
       "4 2013-03-01 15:10:00+00:00  \n",
       "5                       NaT  \n",
       "6                       NaT  \n",
       "7                       NaT  \n",
       "8                       NaT  \n",
       "9 2014-07-14 15:15:00+00:00  "
      ]
     },
     "execution_count": 16,
     "metadata": {},
     "output_type": "execute_result"
    }
   ],
   "source": [
    "df = pd.DataFrame(launch_dict)\n",
    "\n",
    "# Normalize\n",
    "df[\"Flight No.\"] = pd.to_numeric(df[\"Flight No.\"], errors=\"coerce\")\n",
    "df[\"Payload mass\"] = pd.to_numeric(df[\"Payload mass\"], errors=\"coerce\")\n",
    "\n",
    "# Optional: make a single datetime (keep Date/Time columns too)\n",
    "dt_str = (df[\"Date\"].fillna(\"\") + \" \" + df[\"Time\"].fillna(\"\")).str.strip()\n",
    "df[\"Launch_UTC\"] = pd.to_datetime(dt_str, errors=\"coerce\", utc=True, infer_datetime_format=True)\n",
    "\n",
    "df.head(10)\n"
   ]
  },
  {
   "cell_type": "code",
   "execution_count": 21,
   "metadata": {
    "tags": []
   },
   "outputs": [
    {
     "data": {
      "text/plain": [
       "103"
      ]
     },
     "execution_count": 21,
     "metadata": {},
     "output_type": "execute_result"
    }
   ],
   "source": [
    "import pandas as pd, requests\n",
    "\n",
    "# Try v3 first (has rocket.rocket_name). If that fails, fall back to v4.\n",
    "try:\n",
    "    launches = requests.get(\"https://api.spacexdata.com/v3/launches\", timeout=30).json()\n",
    "    spacex_df = pd.json_normalize(launches)\n",
    "    spacex_df[\"rocket_name\"] = spacex_df[\"rocket.rocket_name\"]\n",
    "except Exception:\n",
    "    launches = requests.get(\"https://api.spacexdata.com/v4/launches\", timeout=30).json()\n",
    "    rockets = requests.get(\"https://api.spacexdata.com/v4/rockets\", timeout=30).json()\n",
    "    id2name = {r[\"id\"]: r[\"name\"] for r in rockets}\n",
    "    spacex_df = pd.json_normalize(launches)\n",
    "    spacex_df[\"rocket_name\"] = spacex_df[\"rocket\"].map(id2name)\n",
    "\n",
    "# Q2: how many Falcon 9 launches (i.e., remove Falcon 1)\n",
    "falcon9_count = (spacex_df[\"rocket_name\"] == \"Falcon 9\").sum()\n",
    "falcon9_count\n"
   ]
  },
  {
   "cell_type": "code",
   "execution_count": 23,
   "metadata": {
    "tags": []
   },
   "outputs": [
    {
     "data": {
      "text/plain": [
       "(111, 111)"
      ]
     },
     "execution_count": 23,
     "metadata": {},
     "output_type": "execute_result"
    }
   ],
   "source": [
    "import pandas as pd\n",
    "import numpy as np\n",
    "\n",
    "# 1) Find or derive a 'landpad' column\n",
    "cand_cols = [\"landingPad\", \"cores.0.landpad\", \"rocket.first_stage.cores.0.landpad\"]\n",
    "col = next((c for c in cand_cols if c in spacex_df.columns), None)\n",
    "\n",
    "if col is None:\n",
    "    if \"cores\" in spacex_df.columns:\n",
    "        spacex_df[\"landpad\"] = spacex_df[\"cores\"].apply(\n",
    "            lambda x: (x[0].get(\"landpad\") if isinstance(x, list) and len(x) else None)\n",
    "        )\n",
    "        col = \"landpad\"\n",
    "    elif \"rocket.first_stage.cores\" in spacex_df.columns:\n",
    "        spacex_df[\"landpad\"] = spacex_df[\"rocket.first_stage.cores\"].apply(\n",
    "            lambda x: (x[0].get(\"landpad\") if isinstance(x, list) and len(x) else None)\n",
    "        )\n",
    "        col = \"landpad\"\n",
    "    else:\n",
    "        raise KeyError(\"No landpad-like column found. Inspect spacex_df.columns.\")\n",
    "\n",
    "# 2) Count missing\n",
    "missing_landpad = spacex_df[col].isna().sum()\n",
    "total_rows = len(spacex_df)\n",
    "missing_landpad, total_rows\n"
   ]
  },
  {
   "cell_type": "markdown",
   "metadata": {},
   "source": [
    "We can now export it to a <b>CSV</b> for the next section, but to make the answers consistent and in case you have difficulties finishing this lab. \n",
    "\n",
    "Following labs will be using a provided dataset to make each lab independent. \n"
   ]
  },
  {
   "cell_type": "markdown",
   "metadata": {},
   "source": [
    "<code>df.to_csv('spacex_web_scraped.csv', index=False)</code>\n"
   ]
  },
  {
   "cell_type": "markdown",
   "metadata": {},
   "source": [
    "## Authors\n"
   ]
  },
  {
   "cell_type": "markdown",
   "metadata": {},
   "source": [
    "<a href=\"https://www.linkedin.com/in/yan-luo-96288783/\">Yan Luo</a>\n"
   ]
  },
  {
   "cell_type": "markdown",
   "metadata": {},
   "source": [
    "<a href=\"https://www.linkedin.com/in/nayefaboutayoun/\">Nayef Abou Tayoun</a>\n"
   ]
  },
  {
   "cell_type": "markdown",
   "metadata": {},
   "source": [
    "<!--\n",
    "## Change Log\n",
    "-->\n"
   ]
  },
  {
   "cell_type": "markdown",
   "metadata": {},
   "source": [
    "<!--\n",
    "| Date (YYYY-MM-DD) | Version | Changed By | Change Description      |\n",
    "| ----------------- | ------- | ---------- | ----------------------- |\n",
    "| 2021-06-09        | 1.0     | Yan Luo    | Tasks updates           |\n",
    "| 2020-11-10        | 1.0     | Nayef      | Created the initial version |\n",
    "-->\n"
   ]
  },
  {
   "cell_type": "markdown",
   "metadata": {},
   "source": [
    "Copyright © 2021 IBM Corporation. All rights reserved.\n"
   ]
  }
 ],
 "metadata": {
  "kernelspec": {
   "display_name": "Python",
   "language": "python",
   "name": "conda-env-python-py"
  },
  "language_info": {
   "codemirror_mode": {
    "name": "ipython",
    "version": 3
   },
   "file_extension": ".py",
   "mimetype": "text/x-python",
   "name": "python",
   "nbconvert_exporter": "python",
   "pygments_lexer": "ipython3",
   "version": "3.7.12"
  },
  "prev_pub_hash": "64f1b0aac408997185c47caba18730e0028b75e7934a0e5bf0ae73c5cb7ba677"
 },
 "nbformat": 4,
 "nbformat_minor": 4
}
